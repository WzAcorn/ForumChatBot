{
 "cells": [
  {
   "cell_type": "code",
   "execution_count": 33,
   "metadata": {},
   "outputs": [
    {
     "name": "stdout",
     "output_type": "stream",
     "text": [
      "5\n"
     ]
    },
    {
     "data": {
      "text/html": [
       "<div>\n",
       "<style scoped>\n",
       "    .dataframe tbody tr th:only-of-type {\n",
       "        vertical-align: middle;\n",
       "    }\n",
       "\n",
       "    .dataframe tbody tr th {\n",
       "        vertical-align: top;\n",
       "    }\n",
       "\n",
       "    .dataframe thead th {\n",
       "        text-align: right;\n",
       "    }\n",
       "</style>\n",
       "<table border=\"1\" class=\"dataframe\">\n",
       "  <thead>\n",
       "    <tr style=\"text-align: right;\">\n",
       "      <th></th>\n",
       "      <th>Unnamed: 0</th>\n",
       "      <th>topic_id</th>\n",
       "      <th>translated_raw</th>\n",
       "    </tr>\n",
       "  </thead>\n",
       "  <tbody>\n",
       "    <tr>\n",
       "      <th>754</th>\n",
       "      <td>755</td>\n",
       "      <td>145</td>\n",
       "      <td>I am considering embedding a WIZ140SR into an ...</td>\n",
       "    </tr>\n",
       "    <tr>\n",
       "      <th>619</th>\n",
       "      <td>620</td>\n",
       "      <td>1296</td>\n",
       "      <td>Hi,\\r\\n\\r\\nI will try to describe how to use D...</td>\n",
       "    </tr>\n",
       "    <tr>\n",
       "      <th>2390</th>\n",
       "      <td>2395</td>\n",
       "      <td>3589</td>\n",
       "      <td>Among the github code\\r\\n    // pb_05, pb_12 p...</td>\n",
       "    </tr>\n",
       "    <tr>\n",
       "      <th>2025</th>\n",
       "      <td>2026</td>\n",
       "      <td>2885</td>\n",
       "      <td>hello.\\r\\n\\r\\nInquiries to Serial Communicatio...</td>\n",
       "    </tr>\n",
       "    <tr>\n",
       "      <th>3593</th>\n",
       "      <td>3600</td>\n",
       "      <td>6659</td>\n",
       "      <td>I want to implement DHCP using the W6100.\\r\\n\\...</td>\n",
       "    </tr>\n",
       "  </tbody>\n",
       "</table>\n",
       "</div>"
      ],
      "text/plain": [
       "      Unnamed: 0  topic_id                                     translated_raw\n",
       "754          755       145  I am considering embedding a WIZ140SR into an ...\n",
       "619          620      1296  Hi,\\r\\n\\r\\nI will try to describe how to use D...\n",
       "2390        2395      3589  Among the github code\\r\\n    // pb_05, pb_12 p...\n",
       "2025        2026      2885  hello.\\r\\n\\r\\nInquiries to Serial Communicatio...\n",
       "3593        3600      6659  I want to implement DHCP using the W6100.\\r\\n\\..."
      ]
     },
     "execution_count": 33,
     "metadata": {},
     "output_type": "execute_result"
    }
   ],
   "source": [
    "import pandas as pd\n",
    "\n",
    "# Load the data\n",
    "df = pd.read_csv(\"clean_forum_dataset.csv\", encoding='ISO-8859-1') # Replace with your file path\n",
    "df = df.sample(frac = 0.001, random_state = 333)\n",
    "#print(len(test_df))\n",
    "print(len(df))\n",
    "df.head()"
   ]
  },
  {
   "cell_type": "code",
   "execution_count": 34,
   "metadata": {},
   "outputs": [],
   "source": [
    "import requests\n",
    "import json\n",
    "\n",
    "# 제공된 API 키\n",
    "MY_API_KEY = \"087acfa4-6ba7-4b61-8f7d-de54e68b9777\"\n",
    "CHATBOT_ID = \"RPPmiqEYrxmbXsAfLhg0I\"\n",
    "URL = \"https://www.chatbase.co/api/v1/chat\""
   ]
  },
  {
   "cell_type": "code",
   "execution_count": 35,
   "metadata": {},
   "outputs": [],
   "source": [
    "def send_request(chat_data):\n",
    "    headers = {\n",
    "        \"Authorization\": f\"Bearer {MY_API_KEY}\",\n",
    "        'Content-Type': 'application/json'\n",
    "    }\n",
    "    data = {\n",
    "        \"messages\": [\n",
    "            {\"content\": chat_data, \"role\": \"user\"}\n",
    "        ],\n",
    "        \"chatbotId\": CHATBOT_ID,\n",
    "        \"stream\": False,\n",
    "        \"temperature\": 0,\n",
    "        \"model\": \"gpt-3.5-turbo\"\n",
    "    }\n",
    "\n",
    "    try:\n",
    "        response = requests.post(URL, headers=headers, data=json.dumps(data))\n",
    "        if response.status_code == 200:\n",
    "            json_data = response.json()\n",
    "            return json_data['text']\n",
    "        else:\n",
    "            print('Error: HTTP Status Code', response.status_code)\n",
    "            print('Response content:', response.text)\n",
    "    except json.JSONDecodeError as e:\n",
    "        print('JSONDecodeError:', e)\n",
    "        print('Raw response:', response.text)\n"
   ]
  },
  {
   "cell_type": "code",
   "execution_count": 36,
   "metadata": {},
   "outputs": [
    {
     "name": "stdout",
     "output_type": "stream",
     "text": [
      "진행된 개수: 619\n",
      "진행된 개수: 2025\n",
      "진행된 개수: 3593\n"
     ]
    }
   ],
   "source": [
    "df['refine_raw'] = None\n",
    "for index, row in df.iterrows():\n",
    "    try:\n",
    "        response = send_request(row['translated_raw'])  # send_request 함수로 요청 보내고 응답 받기\n",
    "        \n",
    "        df.at[index, 'refine_raw'] = response  # 응답을 DataFrame에 저장\n",
    "        if (index + 1) % 10 == 0:  # 10번째 마다 실행\n",
    "            print(f\"진행된 개수: {index + 1}\")  # 현재까지의 응답 배열 출력\n",
    "            df_partial = df.loc[:, ~df.columns.str.contains('^Unnamed')]\n",
    "\n",
    "            # Remove rows where 'refine_raw' is None\n",
    "            df_partial = df_partial[df_partial['refine_raw'].notna()]\n",
    "\n",
    "            # Select only the relevant columns\n",
    "            df_partial = df_partial[['topic_id', 'translated_raw', 'refine_raw']]\n",
    "            df_partial.to_csv(f\"forum_dataset_reduced.csv\")\n",
    "    except Exception as e:\n",
    "        print(f\"에러 발생: {e}\")\n",
    "        print(f\"현재까지 진행된 개수: {index}\") \n",
    "        break\n",
    "\n",
    "# Save the final dataframe\n",
    "df_final = df.loc[:, ~df.columns.str.contains('^Unnamed')]\n",
    "df_final = df_final[df_final['refine_raw'].notna()]\n",
    "df_final = df_final[['topic_id', 'translated_raw', 'refine_raw']]\n",
    "df_final.to_csv(\"forum_dataset_final.csv\")\n"
   ]
  }
 ],
 "metadata": {
  "kernelspec": {
   "display_name": "DeepLearning",
   "language": "python",
   "name": "python3"
  },
  "language_info": {
   "codemirror_mode": {
    "name": "ipython",
    "version": 3
   },
   "file_extension": ".py",
   "mimetype": "text/x-python",
   "name": "python",
   "nbconvert_exporter": "python",
   "pygments_lexer": "ipython3",
   "version": "3.8.18"
  }
 },
 "nbformat": 4,
 "nbformat_minor": 2
}
